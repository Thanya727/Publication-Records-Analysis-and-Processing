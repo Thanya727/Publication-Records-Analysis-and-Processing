{
 "cells": [
  {
   "cell_type": "code",
   "execution_count": 1,
   "id": "24f4fbc8-ef42-48fd-9c38-9fc9c7930e27",
   "metadata": {},
   "outputs": [
    {
     "data": {
      "text/plain": [
       "'# Perform a search\\nquery_str = \"author:Paul Kocher\"\\nwith ix.searcher() as searcher:\\n    query = QueryParser(\"author\", ix.schema).parse(query_str)\\n    results = searcher.search(query)\\n    for result in results:\\n        print(f\"Title: {result[\\'title\\']}, Author(s): {\\', \\'.join(result[\\'author\\'])}, Journal: {result[\\'journal\\']}, Year: {result[\\'year\\']}, URL(s): {result[\\'url\\']}\")'"
      ]
     },
     "execution_count": 1,
     "metadata": {},
     "output_type": "execute_result"
    }
   ],
   "source": [
    "import os\n",
    "import xml.etree.ElementTree as ET\n",
    "import whoosh.index as index\n",
    "from whoosh.fields import Schema, TEXT, DATETIME\n",
    "from whoosh.qparser import QueryParser, MultifieldParser, AndGroup\n",
    "\n",
    "# Define the schema for your index\n",
    "schema = Schema(\n",
    "    title=TEXT(stored=True),\n",
    "    author=TEXT(stored=True, vector=True),\n",
    "    journal=TEXT(stored=True),\n",
    "    year=DATETIME(stored=True),\n",
    "    url=TEXT(stored=True),\n",
    ")\n",
    "\n",
    "# Create or open an index\n",
    "if not os.path.exists(\"index\"):\n",
    "    os.mkdir(\"index\")\n",
    "ix = index.create_in(\"index\", schema)\n",
    "\n",
    "# Parse the XML file\n",
    "tree = ET.parse(r\"D:\\dblp.xml\") \n",
    "root = tree.getroot()\n",
    "\n",
    "# Index the data from the XML\n",
    "writer = ix.writer()\n",
    "for article in root.findall('article'):\n",
    "    title = article.find(\"title\").text if article.find(\"title\") is not None else 'Not Specified'\n",
    "    authors = ', '.join([a.text for a in article.findall(\"author\")]) if article.find(\"author\") is not None else 'Not Specified'\n",
    "    journal = article.find(\"journal\").text if article.find(\"journal\") is not None else 'Not Specified'\n",
    "    year = article.find(\"year\").text if article.find(\"year\") is not None else '2000'\n",
    "    url = article.find(\"ee\").text if article.find(\"ee\") is not None else \"\"\n",
    "     \n",
    "    writer.add_document(title=title, author=authors, journal=journal, year=year,  url=url)\n",
    "\n",
    "writer.commit()"
   ]
  },
  {
   "cell_type": "code",
   "execution_count": 3,
   "id": "1ab35af3",
   "metadata": {},
   "outputs": [
    {
     "name": "stdout",
     "output_type": "stream",
     "text": [
      "Title: Spectre Attacks: Exploiting Speculative Execution., Author(s): Paul Kocher, Daniel Genkin, Daniel Gruss, Werner Haas 0004, Mike Hamburg, Moritz Lipp, Stefan Mangard, Stefan Mangard, Thomas Prescher 0002, Michael Schwarz 0001, Yuval Yarom, Journal: meltdownattack.com, Year: 2018, URL(s): https://spectreattack.com/spectre.pdf\n",
      "Title: Spectre Attacks: Exploiting Speculative Execution., Author(s): Paul Kocher, Daniel Genkin, Daniel Gruss, Werner Haas 0004, Mike Hamburg, Moritz Lipp, Stefan Mangard, Thomas Prescher 0002, Michael Schwarz 0001, Yuval Yarom, Journal: CoRR, Year: 2018, URL(s): http://arxiv.org/abs/1801.01203\n",
      "Title: Software Mitigation of RISC-V Spectre Attacks., Author(s): Ruxandra Balucea, Paul Irofti, Journal: CoRR, Year: 2022, URL(s): https://doi.org/10.48550/arXiv.2206.04507\n",
      "Title: Spectre attacks: exploiting speculative execution., Author(s): Paul Kocher, Jann Horn, Anders Fogh, Daniel Genkin, Daniel Gruss, Werner Haas 0004, Mike Hamburg, Moritz Lipp, Stefan Mangard, Thomas Prescher 0002, Michael Schwarz 0001, Yuval Yarom, Journal: Commun. ACM, Year: 2020, URL(s): https://doi.org/10.1145/3399742\n",
      "Title: Detecting Spectre Attacks Using Hardware Performance Counters., Author(s): Congmiao Li, Jean-Luc Gaudiot, Journal: IEEE Trans. Computers, Year: 2022, URL(s): https://doi.org/10.1109/TC.2021.3082471\n",
      "Title: Exploiting Security Dependence for Conditional Speculation Against Spectre Attacks., Author(s): Lutan Zhao, Peinan Li, Rui Hou 0001, Michael C. Huang 0001, Peng Liu 0005, Lixin Zhang 0002, Dan Meng, Journal: IEEE Trans. Computers, Year: 2021, URL(s): https://doi.org/10.1109/TC.2020.2997555\n",
      "Title: SPECTRE: Defending Against Backdoor Attacks Using Robust Statistics., Author(s): Jonathan Hayase, Weihao Kong, Raghav Somani, Sewoong Oh, Journal: CoRR, Year: 2021, URL(s): https://arxiv.org/abs/2104.11315\n",
      "Title: SPECCFI: Mitigating Spectre Attacks using CFI Informed Speculation., Author(s): Esmaeil Mohammadian Koruyeh, Shirin Haji Amin Shirazi, Khaled N. Khasawneh, Chengyu Song, Nael B. Abu-Ghazaleh, Journal: CoRR, Year: 2019, URL(s): http://arxiv.org/abs/1906.01345\n",
      "Title: Spectre Returns! Speculation Attacks using the Return Stack Buffer., Author(s): Esmaeil Mohammadian Koruyeh, Khaled N. Khasawneh, Chengyu Song, Nael B. Abu-Ghazaleh, Journal: CoRR, Year: 2018, URL(s): http://arxiv.org/abs/1807.07940\n",
      "Title: Real time Detection of Spectre and Meltdown Attacks Using Machine Learning., Author(s): Bilal Ali Ahmad, Journal: CoRR, Year: 2020, URL(s): https://arxiv.org/abs/2006.01442\n"
     ]
    }
   ],
   "source": [
    "# Open the existing index\n",
    "ix = index.open_dir(\"index\")\n",
    "query_str = \"Spectre Attacks\"\n",
    "with ix.searcher() as searcher:\n",
    "    # Create a custom query parser to search all fields, including the author field\n",
    "    fields = list(ix.schema._fields.keys())\n",
    "    \n",
    "    # Use the AndGroup to require all words in the query\n",
    "    query_parser = MultifieldParser(fields, ix.schema, group=AndGroup).parse(query_str)\n",
    "    \n",
    "    results = searcher.search(query_parser)  \n",
    "    for result in results:\n",
    "        print(f\"Title: {result['title']}, Author(s): {result['author']}, Journal: {result['journal']}, Year: {result['year']}, URL(s): {result['url']}\")"
   ]
  }
 ],
 "metadata": {
  "kernelspec": {
   "display_name": "Python 3 (ipykernel)",
   "language": "python",
   "name": "python3"
  },
  "language_info": {
   "codemirror_mode": {
    "name": "ipython",
    "version": 3
   },
   "file_extension": ".py",
   "mimetype": "text/x-python",
   "name": "python",
   "nbconvert_exporter": "python",
   "pygments_lexer": "ipython3",
   "version": "3.11.4"
  }
 },
 "nbformat": 4,
 "nbformat_minor": 5
}
