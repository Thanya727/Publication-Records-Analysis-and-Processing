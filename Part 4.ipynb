{
 "cells": [
  {
   "cell_type": "code",
   "execution_count": 2,
   "id": "d71d49e8-95ed-49c5-b358-80a44c458534",
   "metadata": {},
   "outputs": [],
   "source": [
    "from bs4 import BeautifulSoup\n",
    "import xml.etree.ElementTree as ET\n",
    "from sklearn.feature_extraction.text import TfidfVectorizer\n",
    "from sklearn.metrics.pairwise import cosine_similarity"
   ]
  },
  {
   "cell_type": "code",
   "execution_count": 1,
   "id": "b1eee571-534f-4c6f-b103-b81be3e51672",
   "metadata": {},
   "outputs": [
    {
     "name": "stdout",
     "output_type": "stream",
     "text": [
      "Requirement already satisfied: whoosh in /usr/local/lib/python3.9/dist-packages (2.7.4)\n",
      "\u001b[33mWARNING: Running pip as the 'root' user can result in broken permissions and conflicting behaviour with the system package manager. It is recommended to use a virtual environment instead: https://pip.pypa.io/warnings/venv\u001b[0m\u001b[33m\n",
      "\u001b[0mNote: you may need to restart the kernel to use updated packages.\n"
     ]
    }
   ],
   "source": [
    "pip install whoosh "
   ]
  },
  {
   "cell_type": "code",
   "execution_count": null,
   "id": "bbf9ebed-61dd-455d-bf35-eb04be787619",
   "metadata": {},
   "outputs": [
    {
     "name": "stdin",
     "output_type": "stream",
     "text": [
      "Enter a research paper title:  Robotics\n"
     ]
    },
    {
     "name": "stdout",
     "output_type": "stream",
     "text": [
      "Top 10 Similar Papers:\n",
      "Title: Robotics. (Similarity: 1.00)\n",
      "Title: Robotics. (Similarity: 1.00)\n",
      "Title: Robotics. (Similarity: 1.00)\n",
      "Title: Robotics. (Similarity: 1.00)\n",
      "Title: Robotics. (Similarity: 1.00)\n",
      "Title: Robotics. (Similarity: 1.00)\n",
      "Title: Robotics. (Similarity: 1.00)\n",
      "Title: Robotics. (Similarity: 1.00)\n",
      "Title: Robotics. (Similarity: 1.00)\n",
      "Title: Robotics. (Similarity: 1.00)\n"
     ]
    },
    {
     "name": "stdin",
     "output_type": "stream",
     "text": [
      "Enter a research paper title:  vision\n"
     ]
    }
   ],
   "source": [
    "from sklearn.feature_extraction.text import TfidfVectorizer\n",
    "from sklearn.metrics.pairwise import cosine_similarity\n",
    "import xml.etree.ElementTree as ET\n",
    "\n",
    "def extract_titles(xml_file):\n",
    "    titles = []\n",
    "    with open(xml_file, 'r', encoding='ISO-8859-1') as f:\n",
    "        xml_content = f.read()\n",
    "\n",
    "    # Replace undefined entities with corresponding characters\n",
    "    xml_content = xml_content.replace(\"&Ouml;\", \"Ö\")\n",
    "    xml_content = xml_content.replace(\"&uuml;\", \"ü\")\n",
    "    \n",
    "    with open(xml_file, 'w', encoding='utf-8') as f:\n",
    "        f.write(xml_content)\n",
    "\n",
    "    tree = ET.parse(xml_file)\n",
    "    root = tree.getroot()\n",
    "\n",
    "    for element in root:\n",
    "        if element.tag in [\"article\", \"inproceedings\", \"proceedings\", \"book\", \"incollection\", \"phdthesis\", \"mastersthesis\"]:\n",
    "            title = element.find(\"title\").text\n",
    "            if title is not None:  # Check if the title is not None\n",
    "                titles.append(title)\n",
    "        #print(\"Titles extracted from the XML:\")\n",
    "    #for title in titles:\n",
    "        #print(title)\n",
    "\n",
    "    return titles\n",
    "    \n",
    "\n",
    "def vectorize_titles(titles):\n",
    "    vectorizer = TfidfVectorizer()\n",
    "    title_vectors = vectorizer.fit_transform(titles)\n",
    "    return title_vectors, vectorizer\n",
    "\n",
    "def find_similar_papers(input_title, titles, title_vectors, vectorizer):\n",
    "    input_vector = vectorizer.transform([input_title])\n",
    "    similarities = cosine_similarity(input_vector, title_vectors)\n",
    "    similar_paper_indices = similarities.argsort()[0][::-1]\n",
    "        # Sort similar papers by similarity score (descending order)\n",
    "    sorted_similar_papers = [(titles[i], similarities[0][i]) for i in similar_paper_indices if i != 0]\n",
    "    \n",
    "    return sorted_similar_papers\n",
    "\n",
    "def main():\n",
    "    xml_file = \"dblp.xml\"  # Provide the path to your DBLP XML file\n",
    "    titles = extract_titles(xml_file)\n",
    "    if not titles:\n",
    "        print(\"No valid titles found in the XML.\")\n",
    "        return\n",
    "\n",
    "    title_vectors, vectorizer = vectorize_titles(titles)\n",
    "\n",
    "    while True:\n",
    "        input_title = input(\"Enter a research paper title: \")\n",
    "        if input_title.lower() == \"exit\":\n",
    "            break\n",
    "\n",
    "        similar_papers = find_similar_papers(input_title, titles, title_vectors, vectorizer)\n",
    "\n",
    "        if not similar_papers:\n",
    "            print(\"No similar papers found.\")\n",
    "        else:\n",
    "            print(\"Top 10 Similar Papers:\")\n",
    "            for paper, similarity in similar_papers[:10]:  # Display the top 10 similar papers\n",
    "                print(f\"Title: {paper} (Similarity: {similarity:.2f})\")\n",
    "\n",
    "if __name__ == \"__main__\":\n",
    "    main()"
   ]
  },
  {
   "cell_type": "code",
   "execution_count": null,
   "id": "0ba688ff-7c54-4561-97d6-9c70fa8221e6",
   "metadata": {},
   "outputs": [],
   "source": []
  }
 ],
 "metadata": {
  "kernelspec": {
   "display_name": "Python 3 (ipykernel)",
   "language": "python",
   "name": "python3"
  },
  "language_info": {
   "codemirror_mode": {
    "name": "ipython",
    "version": 3
   },
   "file_extension": ".py",
   "mimetype": "text/x-python",
   "name": "python",
   "nbconvert_exporter": "python",
   "pygments_lexer": "ipython3",
   "version": "3.9.16"
  }
 },
 "nbformat": 4,
 "nbformat_minor": 5
}
